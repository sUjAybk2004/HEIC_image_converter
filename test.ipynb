{
 "cells": [
  {
   "cell_type": "code",
   "execution_count": 4,
   "id": "313a0d17-45e3-498e-adaa-0d2c7ee7c588",
   "metadata": {},
   "outputs": [],
   "source": [
    "import pillow_heif\n",
    "from PIL import Image\n",
    "import numpy as np\n",
    "import tensorflow as tf"
   ]
  },
  {
   "cell_type": "code",
   "execution_count": 5,
   "id": "ac33c834-72e6-4c43-af01-f9d76ff95f31",
   "metadata": {},
   "outputs": [],
   "source": [
    "pillow_heif.register_heif_opener()"
   ]
  },
  {
   "cell_type": "code",
   "execution_count": 7,
   "id": "c692c375-495e-40c9-9745-823c4cc6c6c2",
   "metadata": {},
   "outputs": [],
   "source": [
    "heic_image_path = 'C:/Users/DELL/OneDrive/Desktop/New folder/image2.heic'\n",
    "image = Image.open(heic_image_path)"
   ]
  },
  {
   "cell_type": "code",
   "execution_count": 8,
   "id": "7f8bc714-12ca-4bc0-af1b-9c75d157f214",
   "metadata": {},
   "outputs": [],
   "source": [
    "image = image.convert('RGB')\n",
    "image.save('example_high_quality.jpg', 'JPEG', quality=100)"
   ]
  },
  {
   "cell_type": "code",
   "execution_count": 9,
   "id": "f017989b-56a5-4750-bf51-33424c0430c7",
   "metadata": {},
   "outputs": [],
   "source": [
    "img = tf.keras.preprocessing.image.load_img(heic_image_path)"
   ]
  },
  {
   "cell_type": "code",
   "execution_count": 10,
   "id": "cee44f9e-376b-46e2-bd07-ad2e148dcaed",
   "metadata": {},
   "outputs": [],
   "source": [
    "img_array = tf.keras.preprocessing.image.img_to_array(img)"
   ]
  },
  {
   "cell_type": "code",
   "execution_count": 11,
   "id": "21751ea8-0baa-44b3-8921-023dbc54836d",
   "metadata": {},
   "outputs": [
    {
     "name": "stdout",
     "output_type": "stream",
     "text": [
      "Image array (matrix):\n",
      " [[[106. 136. 188.]\n",
      "  [108. 138. 190.]\n",
      "  [111. 141. 193.]\n",
      "  ...\n",
      "  [237. 226. 224.]\n",
      "  [239. 228. 226.]\n",
      "  [218. 207. 205.]]\n",
      "\n",
      " [[109. 139. 191.]\n",
      "  [110. 140. 192.]\n",
      "  [112. 142. 194.]\n",
      "  ...\n",
      "  [236. 225. 223.]\n",
      "  [238. 227. 225.]\n",
      "  [220. 209. 207.]]\n",
      "\n",
      " [[118. 143. 199.]\n",
      "  [118. 143. 199.]\n",
      "  [119. 144. 200.]\n",
      "  ...\n",
      "  [236. 225. 223.]\n",
      "  [237. 226. 224.]\n",
      "  [224. 213. 211.]]\n",
      "\n",
      " ...\n",
      "\n",
      " [[124. 143. 150.]\n",
      "  [131. 150. 157.]\n",
      "  [135. 139. 151.]\n",
      "  ...\n",
      "  [  8.  31.  37.]\n",
      "  [ 16.  26.  35.]\n",
      "  [ 23.  33.  42.]]\n",
      "\n",
      " [[137. 156. 163.]\n",
      "  [140. 159. 166.]\n",
      "  [144. 140. 155.]\n",
      "  ...\n",
      "  [ 16.  40.  50.]\n",
      "  [ 10.  33.  41.]\n",
      "  [ 14.  37.  45.]]\n",
      "\n",
      " [[129. 148. 155.]\n",
      "  [119. 138. 145.]\n",
      "  [110. 106. 121.]\n",
      "  ...\n",
      "  [ 20.  44.  54.]\n",
      "  [ 14.  37.  45.]\n",
      "  [ 16.  39.  47.]]]\n"
     ]
    }
   ],
   "source": [
    "print(\"Image array (matrix):\\n\", img_array)"
   ]
  },
  {
   "cell_type": "code",
   "execution_count": 12,
   "id": "eaf68ae4-18eb-4b3f-8113-057443edd613",
   "metadata": {},
   "outputs": [],
   "source": [
    "New_image_path = 'C:/Users/DELL/OneDrive/Desktop/New folder/example_high_quality.jpg'"
   ]
  },
  {
   "cell_type": "code",
   "execution_count": 13,
   "id": "85c584c8-d9ac-40b8-9aff-86532f1a3a49",
   "metadata": {},
   "outputs": [],
   "source": [
    "image = Image.open(New_image_path)"
   ]
  },
  {
   "cell_type": "code",
   "execution_count": 14,
   "id": "a91c10d6-d93b-45cc-b91b-adce661729cc",
   "metadata": {},
   "outputs": [],
   "source": [
    "new_img = tf.keras.preprocessing.image.load_img(New_image_path)"
   ]
  },
  {
   "cell_type": "code",
   "execution_count": 15,
   "id": "3d9f1235-2fbc-4272-b107-b4dae9f5b800",
   "metadata": {},
   "outputs": [],
   "source": [
    "new_img_array = tf.keras.preprocessing.image.img_to_array(new_img)"
   ]
  },
  {
   "cell_type": "code",
   "execution_count": 16,
   "id": "1d9a64bb-7fa8-408a-95a6-8c7fe9ee1fe3",
   "metadata": {},
   "outputs": [
    {
     "name": "stdout",
     "output_type": "stream",
     "text": [
      "Image array (matrix):\n",
      " [[[106. 136. 188.]\n",
      "  [108. 138. 190.]\n",
      "  [110. 142. 193.]\n",
      "  ...\n",
      "  [237. 226. 224.]\n",
      "  [239. 228. 226.]\n",
      "  [218. 207. 205.]]\n",
      "\n",
      " [[111. 138. 191.]\n",
      "  [110. 140. 192.]\n",
      "  [112. 142. 194.]\n",
      "  ...\n",
      "  [236. 225. 223.]\n",
      "  [238. 227. 225.]\n",
      "  [220. 209. 207.]]\n",
      "\n",
      " [[118. 143. 199.]\n",
      "  [117. 144. 199.]\n",
      "  [118. 145. 200.]\n",
      "  ...\n",
      "  [236. 225. 223.]\n",
      "  [237. 226. 224.]\n",
      "  [224. 213. 211.]]\n",
      "\n",
      " ...\n",
      "\n",
      " [[124. 143. 150.]\n",
      "  [134. 148. 157.]\n",
      "  [133. 139. 151.]\n",
      "  ...\n",
      "  [ 10.  30.  37.]\n",
      "  [ 13.  27.  36.]\n",
      "  [ 21.  34.  42.]]\n",
      "\n",
      " [[136. 155. 162.]\n",
      "  [143. 157. 166.]\n",
      "  [140. 142. 155.]\n",
      "  ...\n",
      "  [ 16.  39.  47.]\n",
      "  [ 11.  31.  40.]\n",
      "  [ 17.  36.  43.]]\n",
      "\n",
      " [[129. 148. 155.]\n",
      "  [123. 136. 145.]\n",
      "  [106. 108. 121.]\n",
      "  ...\n",
      "  [ 20.  44.  54.]\n",
      "  [ 13.  36.  44.]\n",
      "  [ 16.  39.  47.]]]\n"
     ]
    }
   ],
   "source": [
    "print(\"Image array (matrix):\\n\", new_img_array)"
   ]
  },
  {
   "cell_type": "code",
   "execution_count": 17,
   "id": "d8edad5f-e94a-4816-90bf-f13220318cf8",
   "metadata": {},
   "outputs": [],
   "source": [
    "difference_array = new_img_array - img_array"
   ]
  },
  {
   "cell_type": "code",
   "execution_count": 18,
   "id": "a090cb7c-ec77-462e-98ca-2e4ec858d277",
   "metadata": {},
   "outputs": [
    {
     "name": "stdout",
     "output_type": "stream",
     "text": [
      "Image array (matrix):\n",
      " [[[ 0.  0.  0.]\n",
      "  [ 0.  0.  0.]\n",
      "  [-1.  1.  0.]\n",
      "  ...\n",
      "  [ 0.  0.  0.]\n",
      "  [ 0.  0.  0.]\n",
      "  [ 0.  0.  0.]]\n",
      "\n",
      " [[ 2. -1.  0.]\n",
      "  [ 0.  0.  0.]\n",
      "  [ 0.  0.  0.]\n",
      "  ...\n",
      "  [ 0.  0.  0.]\n",
      "  [ 0.  0.  0.]\n",
      "  [ 0.  0.  0.]]\n",
      "\n",
      " [[ 0.  0.  0.]\n",
      "  [-1.  1.  0.]\n",
      "  [-1.  1.  0.]\n",
      "  ...\n",
      "  [ 0.  0.  0.]\n",
      "  [ 0.  0.  0.]\n",
      "  [ 0.  0.  0.]]\n",
      "\n",
      " ...\n",
      "\n",
      " [[ 0.  0.  0.]\n",
      "  [ 3. -2.  0.]\n",
      "  [-2.  0.  0.]\n",
      "  ...\n",
      "  [ 2. -1.  0.]\n",
      "  [-3.  1.  1.]\n",
      "  [-2.  1.  0.]]\n",
      "\n",
      " [[-1. -1. -1.]\n",
      "  [ 3. -2.  0.]\n",
      "  [-4.  2.  0.]\n",
      "  ...\n",
      "  [ 0. -1. -3.]\n",
      "  [ 1. -2. -1.]\n",
      "  [ 3. -1. -2.]]\n",
      "\n",
      " [[ 0.  0.  0.]\n",
      "  [ 4. -2.  0.]\n",
      "  [-4.  2.  0.]\n",
      "  ...\n",
      "  [ 0.  0.  0.]\n",
      "  [-1. -1. -1.]\n",
      "  [ 0.  0.  0.]]]\n"
     ]
    }
   ],
   "source": [
    "print(\"Image array (matrix):\\n\", difference_array)"
   ]
  },
  {
   "cell_type": "code",
   "execution_count": 25,
   "id": "8522bb87-ada4-4e95-b5c5-62db64030916",
   "metadata": {},
   "outputs": [
    {
     "name": "stdout",
     "output_type": "stream",
     "text": [
      "628794.3\n"
     ]
    }
   ],
   "source": [
    "ori_magnitude = np.linalg.norm(img_array)\n",
    "print(ori_magnitude)"
   ]
  },
  {
   "cell_type": "code",
   "execution_count": 26,
   "id": "685462db-4e76-478b-9c64-dcf63cb15499",
   "metadata": {},
   "outputs": [
    {
     "name": "stdout",
     "output_type": "stream",
     "text": [
      "628383.25\n"
     ]
    }
   ],
   "source": [
    "con_magnitude = np.linalg.norm(new_img_array)\n",
    "print(con_magnitude)"
   ]
  },
  {
   "cell_type": "code",
   "execution_count": 27,
   "id": "54002f90-d8aa-48e9-a25e-e7856d36ee2d",
   "metadata": {},
   "outputs": [
    {
     "name": "stdout",
     "output_type": "stream",
     "text": [
      "411.0625\n"
     ]
    }
   ],
   "source": [
    "print(ori_magnitude - con_magnitude)"
   ]
  },
  {
   "cell_type": "code",
   "execution_count": 30,
   "id": "05e19e3c-7fa0-407a-965d-7d67fd6ec6b6",
   "metadata": {},
   "outputs": [
    {
     "name": "stdout",
     "output_type": "stream",
     "text": [
      "-5.918127e-06\n"
     ]
    }
   ],
   "source": []
  },
  {
   "cell_type": "code",
   "execution_count": 21,
   "id": "ab87c44f-0501-4adc-8908-a53b109db1fe",
   "metadata": {},
   "outputs": [],
   "source": [
    "diff_magnitude = np.linalg.norm(difference_array)"
   ]
  },
  {
   "cell_type": "code",
   "execution_count": 22,
   "id": "67c77c41-45ae-4e8a-81d6-08c69b9eeea8",
   "metadata": {},
   "outputs": [
    {
     "name": "stdout",
     "output_type": "stream",
     "text": [
      "13742.124\n"
     ]
    }
   ],
   "source": [
    "print(diff_magnitude)"
   ]
  },
  {
   "cell_type": "code",
   "execution_count": null,
   "id": "bedab8c5-5628-4ced-a497-63020a2eaedd",
   "metadata": {},
   "outputs": [],
   "source": []
  }
 ],
 "metadata": {
  "kernelspec": {
   "display_name": "Python 3 (ipykernel)",
   "language": "python",
   "name": "python3"
  },
  "language_info": {
   "codemirror_mode": {
    "name": "ipython",
    "version": 3
   },
   "file_extension": ".py",
   "mimetype": "text/x-python",
   "name": "python",
   "nbconvert_exporter": "python",
   "pygments_lexer": "ipython3",
   "version": "3.11.9"
  }
 },
 "nbformat": 4,
 "nbformat_minor": 5
}
